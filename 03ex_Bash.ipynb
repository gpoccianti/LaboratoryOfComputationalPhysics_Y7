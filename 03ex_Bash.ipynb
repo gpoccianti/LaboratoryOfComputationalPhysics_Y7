{
 "cells": [
  {
   "cell_type": "markdown",
   "id": "b5746bd0",
   "metadata": {},
   "source": [
    "The following exercises are meant to be solved by gathering the bash commands incrimentally in two scripts, one for ex 1.* the other for ex 2.* "
   ]
  },
  {
   "cell_type": "markdown",
   "id": "4e60de78",
   "metadata": {},
   "source": [
    "### Ex 1"
   ]
  },
  {
   "cell_type": "markdown",
   "id": "6759df36",
   "metadata": {},
   "source": [
    "1\\.a Make a new directory called `students` in your home. Download a csv file with the list of students of this lab from [here](https://www.dropbox.com/s/867rtx3az6e9gm8/LCP_22-23_students.csv) (use the `wget` command) and copy that to `students`. First check whether the file is already there"
   ]
  },
  {
   "cell_type": "markdown",
   "id": "3e50a633-9402-4bd8-bbd0-b153cb397397",
   "metadata": {},
   "source": [
    "``` bash\n",
    "mkdir students\n",
    "if \n",
    "wget -O students_file.csv \"https://www.dropbox.com/scl/fi/bxv17nrbrl83vw6qrkiu9/LCP_22-23_students.csv?rlkey=47fakvatrtif3q3qw4q97p5b7&dl=1\"\n",
    "\n",
    "if [ -f \"./students_file.csv\" ]\n",
    "then  \n",
    "echo \"The file is already present\\!\"\n",
    "else\n",
    "wget -O students_file.csv \"https://www.dropbox.com/scl/fi/bxv17nrbrl83vw6qrkiu9/LCP_22-23_students.csv?rlkey=47fakvatrtif3q3qw4q97p5b7&dl=1\"\n",
    "echo \" File created \\!\"\n",
    "fi\n",
    "```"
   ]
  },
  {
   "cell_type": "markdown",
   "id": "977502b5-feac-4484-a393-57622e595e39",
   "metadata": {},
   "source": [
    "Alternative (apparently on my mac \"=\" for strings means ==):\n",
    "``` bash\n",
    "\n",
    "for file in ./*; do if [ \"${file}\" = \"./students_file.csv\" ]\n",
    "then  \n",
    "echo \"The file is already present\\!\"\n",
    "else\n",
    "wget -O students_file.csv \"https://www.dropbox.com/scl/fi/bxv17nrbrl83vw6qrkiu9/LCP_22-23_students.csv?rlkey=47fakvatrtif3q3qw4q97p5b7&dl=1\"\n",
    "echo \" File created \\!\"\n",
    "fi\n",
    "done\n",
    "```"
   ]
  },
  {
   "cell_type": "markdown",
   "id": "798c0c9d",
   "metadata": {},
   "source": [
    "1\\.b Make two new files, one containing the students belonging to PoD, the other to Physics."
   ]
  },
  {
   "cell_type": "markdown",
   "id": "8b7668d8-38c6-46f8-866f-ddb7e15b7991",
   "metadata": {},
   "source": [
    "``` bash\n",
    "#!/bin/bash\n",
    "#select a line with grep, and then cut the columns for Surnames and Names\n",
    "grep \"PoD\" students_file.csv | cut -f1,2 -d , > students_PoD\n",
    "grep \"Physics\" students_file.csv | cut -f1,2 -d , > students_Physics\n",
    "```"
   ]
  },
  {
   "cell_type": "markdown",
   "id": "8a43d622",
   "metadata": {},
   "source": [
    "1\\.c For each letter of the alphabet, count the number of students whose surname starts with that letter. "
   ]
  },
  {
   "cell_type": "markdown",
   "id": "a0c79ade-27f4-4897-beb8-5d8ea6f42f56",
   "metadata": {},
   "source": [
    "``` bash\n",
    "#!/bin/bash\n",
    "\n",
    "for letter in {A..Z}; do\n",
    "#-d: the delimiter is a comma -f1: extract column 1 (Family Name(s))\n",
    "#  awk 'NR > 1' students_file.csv, skip 1 line: makes sure that the first line (header) is not selected \n",
    "# grec -c: count\n",
    "# >: writes, >>: appends\n",
    " count=$(awk 'NR > 1' students_file.csv | cut -d, -f1| grep -c \"^$letter\")\n",
    " echo \"$letter $count\" >> letter_counts.txt\n",
    "\n",
    "done\n",
    "```"
   ]
  },
  {
   "cell_type": "markdown",
   "id": "4ba6bc90",
   "metadata": {},
   "source": [
    "1\\.d Find out which is the letter with most counts."
   ]
  },
  {
   "cell_type": "markdown",
   "id": "107a3f64-a261-4926-941f-d233f82090c8",
   "metadata": {},
   "source": [
    "``` bash\n",
    "#!/bin/bash\n",
    "max_count=0\n",
    "max=A\n",
    "for letter in {A..Z}; do\n",
    "#-d: the delimiter is a comma -f1: extract column 1 (Family Name(s))\n",
    "#  awk 'NR > 1' students_file.csv, skip 1 line: makes sure that the first line (header) is not selected \n",
    "# grec -c: count\n",
    "# >: writes, >>: appends\n",
    " count=$(awk 'NR > 1' students_file.csv | cut -d, -f1| grep -c \"^$letter\")\n",
    " echo \"$letter $count\" >> letter_counts.txt\n",
    "  if [ $count -gt $max_count ]; then\n",
    "    max=$letter\n",
    "    max_count=$count\n",
    "  fi\n",
    "done\n",
    " echo $max\n",
    "```"
   ]
  },
  {
   "cell_type": "markdown",
   "id": "086a043c",
   "metadata": {},
   "source": [
    "1\\. Assume an obvious numbering of the students in the file (first line is 1, second line is 2, etc.), group students \"modulo 18\", i.e. 1,19,37,.. 2,20,38,.. etc. and put each group in a separate file  "
   ]
  },
  {
   "cell_type": "markdown",
   "id": "47b199b3-d108-44f7-a0e4-59d60fc7007f",
   "metadata": {},
   "source": [
    "``` bash\n",
    "#!/bin/bash\n",
    "students=$(awk 'NR > 1' students_file.csv | cut -d, -f1,2)\n",
    "ln=0 # line counter\n",
    "\n",
    "for student in $students; do\n",
    "    ln=$((ln + 1)) # Increment line counter\n",
    "\n",
    "    count=$((ln % 18)) # Calculate modulus\n",
    "    echo \"$student\" >> \"student_mod$count\"\n",
    "done\n",
    "```"
   ]
  },
  {
   "cell_type": "markdown",
   "id": "b3bedda6-5717-4864-bde5-46673030e331",
   "metadata": {},
   "source": [
    "This version needs to be improved (there are some issues with line handling). Here a less clear, but improved version:"
   ]
  },
  {
   "cell_type": "markdown",
   "id": "84878970-bf86-431e-bc67-a0350e7f1e13",
   "metadata": {},
   "source": [
    "``` bash\n",
    "#!/bin/bash\n",
    "\n",
    "ln=0 # line counter\n",
    "\n",
    "# Read each student name directly from the file, skipping the header line\n",
    "tail -n +2 students_file.csv | cut -d, -f1,2 | while read -r student; do\n",
    "    ln=$((ln + 1)) # Increment line counter\n",
    "\n",
    "    count=$((ln % 18)) # Calculate modulus\n",
    "    echo \"$student\" >> \"student_mod$count\"\n",
    "done\n",
    "```"
   ]
  },
  {
   "cell_type": "markdown",
   "id": "1d730d21",
   "metadata": {},
   "source": [
    "### Ex 2"
   ]
  },
  {
   "cell_type": "markdown",
   "id": "4b87ecb7",
   "metadata": {},
   "source": [
    "2.a Make a copy of the file `data.csv` removing the metadata and the commas between numbers; call it `data.txt`"
   ]
  },
  {
   "cell_type": "markdown",
   "id": "7e90236b-37f0-4d92-be4f-8c5f12811ce4",
   "metadata": {},
   "source": [
    "``` bash\n",
    "#!/bin/bash\n",
    "\n",
    "#cp data.csv ./data.txt\n",
    "# tr: it's a sort of substitution. Usage: tr [options] set1 [set2]\n",
    "#-d: Deletes characters in set1 from the input.\n",
    "#-s: Squeezes repeating characters in set1 to a single occurrence.\n",
    "\n",
    "tail -n+5 data.csv | cut -d, -f1-6 | tr -d , > data.txt #select the data lines | cut by \",\" selecting all columns | delete \",\" \n",
    "```"
   ]
  },
  {
   "cell_type": "markdown",
   "id": "344048c8",
   "metadata": {},
   "source": [
    "2\\.b How many even numbers are there?"
   ]
  },
  {
   "cell_type": "markdown",
   "id": "2c96f5fe-7a56-45ea-b7e2-7ff0a662d180",
   "metadata": {},
   "source": [
    "``` bash\n",
    "#delete the file oddity each time before creating it again\n",
    "rm oddity.txt\n",
    "\n",
    "#write each number (not line! Single number) % 2 and write it on line\n",
    "for xx in $(tail -n+1 data.txt); do\n",
    "echo $(( xx % 2 )) >> oddity.txt\n",
    "done\n",
    "\n",
    "# Count the number of even numbers (0 means even)\n",
    "even=$(grep -c \"0\" oddity.txt)\n",
    "\n",
    "# Print the number of even numbers\n",
    "echo \"The number of even numbers is: $even\"\n",
    "```"
   ]
  },
  {
   "cell_type": "markdown",
   "id": "4ca247a5-b5f4-479d-9d09-f3385ea6d626",
   "metadata": {},
   "source": [
    "To read each line at a single time we would need to do something like:\n",
    "``` bash\n",
    "tail -n +1 data.txt | while read -r line; do #reads all the lines (in this case there isn't an header)\n",
    "\n",
    "\n",
    "done\n",
    "```"
   ]
  },
  {
   "cell_type": "markdown",
   "id": "2a27138d",
   "metadata": {},
   "source": [
    "2\\.c Distinguish the entries on the basis of `sqrt(X^2 + Y^2 + Z^2)` is greater or smaller than `100*sqrt(3)/2`. Count the entries of each of the two groups "
   ]
  },
  {
   "cell_type": "markdown",
   "id": "a380c2ae-a425-466b-b1a8-dfe24a7ea1ec",
   "metadata": {},
   "source": [
    "``` bash\n",
    "#clean the numeric result file\n",
    "rm -f result.txt\n",
    "\n",
    "# cut -d[\"delimiter\"]: cuts according to \"delimiter\"\n",
    "tail -n +1 data.txt | cut -d\" \" -f1-3 | while read -r field1 field2 field3; do #reads all the lines (in this case there isn't an header)\n",
    "# Access each field separately (it's a read option)\n",
    "  if (( field1**2 + field2**2 + field3**2 > 100*100*3/4 )); then\n",
    "  echo 1 >> result.txt\n",
    "  else\n",
    "  echo 0 >> result.txt\n",
    "  fi\n",
    "done\n",
    "\n",
    "echo \"The number of positive results is: $(grep -c \"1\" result.txt)\"\n",
    "\n",
    "echo \"The number of negative results is: $(grep -c \"0\" result.txt)\"\n",
    "```"
   ]
  },
  {
   "cell_type": "markdown",
   "id": "e937ef4e",
   "metadata": {},
   "source": [
    "2\\.d Make `n` copies of data.txt (with `n` an input parameter of the script), where the i-th copy has all the numbers divided by i (with `1<=i<=n`)."
   ]
  },
  {
   "cell_type": "markdown",
   "id": "617bbe2d-42e5-4621-a810-b21f17942445",
   "metadata": {},
   "source": [
    "``` bash\n",
    "#read variable_name:    reads from keyboard\n",
    "#-p: display a prompt\n",
    "read -p \"Please select the number of copies: \" n\n",
    "\n",
    "#for ii in {1..$n} creates problem with the operations !\n",
    "\n",
    "for ii in $(seq 1 $n); do\n",
    "    # Clean the file (no need to copy it, just clear it if it exists)\n",
    "    > data_$ii.txt  # Clear or create the file\n",
    "\n",
    "    # Process each line of data.txt\n",
    "    tail -n +1 data.txt | cut -d\" \" -f1-6 | while read -r field1 field2 field3 field4 field5 field6; do\n",
    "\n",
    "        # Divide each field by $ii\n",
    "        field1=$(echo \"scale=2; $field1 / $ii\" | bc -l)\n",
    "        field2=$(echo \"scale=2; $field2 / $ii\" | bc -l)\n",
    "        field3=$(echo \"scale=2; $field3 / $ii\" | bc -l)\n",
    "        field4=$(echo \"scale=2; $field4 / $ii\" | bc -l)\n",
    "        field5=$(echo \"scale=2; $field5 / $ii\" | bc -l)\n",
    "        field6=$(echo \"scale=2; $field6 / $ii\" | bc -l)\n",
    "\n",
    "        # Write the transformed values into the file\n",
    "        echo \"$field1 $field2 $field3 $field4 $field5 $field6\" >> data_$ii.txt\n",
    "    done\n",
    "done\n",
    "\n",
    "\n",
    "\n",
    "#bc: Bash itself only supports integer arithmetic by default, so bc is necessary for floating-point calculations.\n",
    "#-l option for floating point arithmetic\n",
    "#scale set the number of digits represented\n",
    "\n",
    "```"
   ]
  }
 ],
 "metadata": {
  "kernelspec": {
   "display_name": "my-python3-kernel",
   "language": "python",
   "name": "my-python3-kernel"
  },
  "language_info": {
   "codemirror_mode": {
    "name": "ipython",
    "version": 3
   },
   "file_extension": ".py",
   "mimetype": "text/x-python",
   "name": "python",
   "nbconvert_exporter": "python",
   "pygments_lexer": "ipython3",
   "version": "3.12.2"
  }
 },
 "nbformat": 4,
 "nbformat_minor": 5
}
