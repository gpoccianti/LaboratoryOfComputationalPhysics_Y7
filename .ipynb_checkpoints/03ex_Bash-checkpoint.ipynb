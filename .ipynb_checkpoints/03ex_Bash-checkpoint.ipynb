{
 "cells": [
  {
   "cell_type": "markdown",
   "id": "b5746bd0",
   "metadata": {},
   "source": [
    "The following exercises are meant to be solved by gathering the bash commands incrimentally in two scripts, one for ex 1.* the other for ex 2.* "
   ]
  },
  {
   "cell_type": "markdown",
   "id": "4e60de78",
   "metadata": {},
   "source": [
    "### Ex 1"
   ]
  },
  {
   "cell_type": "markdown",
   "id": "6759df36",
   "metadata": {},
   "source": [
    "1\\.a Make a new directory called `students` in your home. Download a csv file with the list of students of this lab from [here](https://www.dropbox.com/s/867rtx3az6e9gm8/LCP_22-23_students.csv) (use the `wget` command) and copy that to `students`. First check whether the file is already there"
   ]
  },
  {
   "cell_type": "markdown",
   "id": "3e50a633-9402-4bd8-bbd0-b153cb397397",
   "metadata": {},
   "source": [
    "``` bash\n",
    "mkdir students\n",
    "if \n",
    "wget -O students_file.csv \"https://www.dropbox.com/scl/fi/bxv17nrbrl83vw6qrkiu9/LCP_22-23_students.csv?rlkey=47fakvatrtif3q3qw4q97p5b7&dl=1\"\n",
    "\n",
    "if [ -f \"./students_file.csv\" ]\n",
    "then  \n",
    "echo \"The file is already present\\!\"\n",
    "else\n",
    "wget -O students_file.csv \"https://www.dropbox.com/scl/fi/bxv17nrbrl83vw6qrkiu9/LCP_22-23_students.csv?rlkey=47fakvatrtif3q3qw4q97p5b7&dl=1\"\n",
    "echo \" File created \\!\"\n",
    "fi\n",
    "```"
   ]
  },
  {
   "cell_type": "markdown",
   "id": "977502b5-feac-4484-a393-57622e595e39",
   "metadata": {},
   "source": [
    "Alternative (apparently on my mac \"=\" for strings means ==):\n",
    "``` bash\n",
    "\n",
    "for file in ./*; do if [ \"${file}\" = \"./students_file.csv\" ]\n",
    "then  \n",
    "echo \"The file is already present\\!\"\n",
    "else\n",
    "wget -O students_file.csv \"https://www.dropbox.com/scl/fi/bxv17nrbrl83vw6qrkiu9/LCP_22-23_students.csv?rlkey=47fakvatrtif3q3qw4q97p5b7&dl=1\"\n",
    "echo \" File created \\!\"\n",
    "fi\n",
    "done\n",
    "```"
   ]
  },
  {
   "cell_type": "markdown",
   "id": "798c0c9d",
   "metadata": {},
   "source": [
    "1\\.b Make two new files, one containing the students belonging to PoD, the other to Physics."
   ]
  },
  {
   "cell_type": "markdown",
   "id": "8b7668d8-38c6-46f8-866f-ddb7e15b7991",
   "metadata": {},
   "source": [
    "``` bash\n",
    "#!/bin/bash\n",
    "#select a line with grep, and then cut the columns for Surnames and Names\n",
    "grep \"PoD\" students_file.csv | cut -f1,2 -d , > students_PoD\n",
    "grep \"Physics\" students_file.csv | cut -f1,2 -d , > students_Physics\n",
    "```"
   ]
  },
  {
   "cell_type": "markdown",
   "id": "8a43d622",
   "metadata": {},
   "source": [
    "1\\.c For each letter of the alphabet, count the number of students whose surname starts with that letter. "
   ]
  },
  {
   "cell_type": "markdown",
   "id": "a0c79ade-27f4-4897-beb8-5d8ea6f42f56",
   "metadata": {},
   "source": [
    "``` bash\n",
    "#!/bin/bash\n",
    "\n",
    "for letter in {A..Z}; do\n",
    "#-d: the delimiter is a comma -f1: extract column 1 (Family Name(s))\n",
    "#  awk 'NR > 1' students_file.csv, skip 1 line: makes sure that the first line (header) is not selected \n",
    "# grec -c: count\n",
    "# >: writes, >>: appends\n",
    " count=$(awk 'NR > 1' students_file.csv | cut -d, -f1| grep -c \"^$letter\")\n",
    " echo \"$letter $count\" >> letter_counts.txt\n",
    "\n",
    "done\n",
    "```"
   ]
  },
  {
   "cell_type": "markdown",
   "id": "4ba6bc90",
   "metadata": {},
   "source": [
    "1\\.d Find out which is the letter with most counts."
   ]
  },
  {
   "cell_type": "markdown",
   "id": "107a3f64-a261-4926-941f-d233f82090c8",
   "metadata": {},
   "source": [
    "``` bash\n",
    "#!/bin/bash\n",
    "max_count=0\n",
    "max=A\n",
    "for letter in {A..Z}; do\n",
    "#-d: the delimiter is a comma -f1: extract column 1 (Family Name(s))\n",
    "#  awk 'NR > 1' students_file.csv, skip 1 line: makes sure that the first line (header) is not selected \n",
    "# grec -c: count\n",
    "# >: writes, >>: appends\n",
    " count=$(awk 'NR > 1' students_file.csv | cut -d, -f1| grep -c \"^$letter\")\n",
    " echo \"$letter $count\" >> letter_counts.txt\n",
    "  if [ $count -gt $max_count ]; then\n",
    "    max=$letter\n",
    "    max_count=$count\n",
    "  fi\n",
    "done\n",
    " echo $max\n",
    "```"
   ]
  },
  {
   "cell_type": "markdown",
   "id": "086a043c",
   "metadata": {},
   "source": [
    "1\\.e Assume an obvious numbering of the students in the file (first line is 1, second line is 2, etc.), group students \"modulo 18\", i.e. 1,19,37,.. 2,20,38,.. etc. and put each group in a separate file  "
   ]
  },
  {
   "cell_type": "code",
   "execution_count": null,
   "id": "f81de8e6-f48d-4e14-8f0d-3bbe5f7a07f7",
   "metadata": {},
   "outputs": [],
   "source": []
  },
  {
   "cell_type": "markdown",
   "id": "1d730d21",
   "metadata": {},
   "source": [
    "### Ex 2"
   ]
  },
  {
   "cell_type": "markdown",
   "id": "4b87ecb7",
   "metadata": {},
   "source": [
    "2.a Make a copy of the file `data.csv` removing the metadata and the commas between numbers; call it `data.txt`"
   ]
  },
  {
   "cell_type": "markdown",
   "id": "344048c8",
   "metadata": {},
   "source": [
    "2\\.b How many even numbers are there?"
   ]
  },
  {
   "cell_type": "markdown",
   "id": "2a27138d",
   "metadata": {},
   "source": [
    "2\\.c Distinguish the entries on the basis of `sqrt(X^2 + Y^2 + Z^2)` is greater or smaller than `100*sqrt(3)/2`. Count the entries of each of the two groups "
   ]
  },
  {
   "cell_type": "markdown",
   "id": "e937ef4e",
   "metadata": {},
   "source": [
    "2\\.d Make `n` copies of data.txt (with `n` an input parameter of the script), where the i-th copy has all the numbers divided by i (with `1<=i<=n`)."
   ]
  }
 ],
 "metadata": {
  "kernelspec": {
   "display_name": "my-python3-kernel",
   "language": "python",
   "name": "my-python3-kernel"
  },
  "language_info": {
   "codemirror_mode": {
    "name": "ipython",
    "version": 3
   },
   "file_extension": ".py",
   "mimetype": "text/x-python",
   "name": "python",
   "nbconvert_exporter": "python",
   "pygments_lexer": "ipython3",
   "version": "3.12.2"
  }
 },
 "nbformat": 4,
 "nbformat_minor": 5
}
