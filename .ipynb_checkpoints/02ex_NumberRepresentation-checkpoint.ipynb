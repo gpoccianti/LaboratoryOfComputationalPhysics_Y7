{
 "cells": [
  {
   "cell_type": "markdown",
   "metadata": {},
   "source": [
    "1\\. Write a function that converts number representation, bin<->dec<->hex. (Clearly using the corresponding python built-in functions is not fair..)"
   ]
  },
  {
   "cell_type": "code",
   "execution_count": 139,
   "metadata": {},
   "outputs": [],
   "source": [
    "import numpy as np\n",
    "\n",
    "#b is the considered base\n",
    "def get_len(x):\n",
    "    ii=0\n",
    "    while(x // 10**ii > 0):\n",
    "        ii+=1\n",
    "    return ii\n",
    "\n",
    "def get_digit(x,n):\n",
    "    return x // 10**n % 10\n",
    "\n",
    "def bin_to_dec(x):\n",
    "    y=0\n",
    "    for ii in np.arange(get_len(x)):\n",
    "        y+=2**ii*get_digit(x,ii)\n",
    "    return(y)\n",
    "\n",
    "def hex_to_dec(x):\n",
    "    y=0\n",
    "    for ii in np.arange(get_len(x)):\n",
    "        y+=16**ii*get_digit(x,ii)\n",
    "    return(y)\n",
    "        \n",
    "def dec_to_bin(x):\n",
    "    nn=0\n",
    "    res=[]\n",
    "    while(x!=0):\n",
    "        nn+=1\n",
    "        res.append(x % 2)\n",
    "        x=x // 2\n",
    "    # mirror the vector (inefficient algorithm)\n",
    "    res=res[::-1]\n",
    "    return res\n",
    "        \n",
    "\n",
    "def dec_to_hex(x):\n",
    "    nn=0\n",
    "    res=[]\n",
    "    while(x!=0):\n",
    "        nn+=1\n",
    "        res.append(x % 16)\n",
    "        x=x // 16\n",
    "    # mirror the vector\n",
    "    res=res[::-1]\n",
    "    return res\n",
    "    \n",
    "#We also have to include the first digit for sign"
   ]
  },
  {
   "cell_type": "code",
   "execution_count": 216,
   "metadata": {},
   "outputs": [],
   "source": [
    "#def base_conv(x,start_base,end_base): TODO\n",
    "    "
   ]
  },
  {
   "cell_type": "markdown",
   "metadata": {},
   "source": [
    "2\\. Write a function that converts a 32 bit word into a single precision floating point (i.e. interprets the various bits as sign, mantissa and exponent)"
   ]
  },
  {
   "cell_type": "code",
   "execution_count": 222,
   "metadata": {},
   "outputs": [],
   "source": [
    "def vec_digit(x):\n",
    "    x_vec=[]\n",
    "    for kk in range(get_len(x)):\n",
    "        x_vec.append(get_digit(x,kk))\n",
    "    x_vec=x_vec[::-1]\n",
    "    return x_vec\n",
    "\n",
    "def vec_to_scal(x_v):\n",
    "    x=0\n",
    "    nn=0\n",
    "    for y in x_v:\n",
    "        x+=y*10**nn\n",
    "        nn+=1\n",
    "    return x\n",
    "\n",
    "def single_precision(x):\n",
    "\n",
    "    y=vec_digit(x)\n",
    "\n",
    "    res=(-1)**y[32]*2**(int(vec_to_scal(y[30:23:-1]),2))*(int(vec_to_scal(y[22:0:-1]),2)+2**(-23))*2**23\n",
    "    return res\n",
    "    \n",
    " "
   ]
  },
  {
   "cell_type": "markdown",
   "metadata": {},
   "source": [
    "3\\. Write a program to determine the underflow and overflow limits (within a factor of 2) for python on your computer. \n",
    "\n",
    "**Tips**: define two variables inizialized to 1 and halve/double them enough time to exceed the under/over-flow limits  "
   ]
  },
  {
   "cell_type": "code",
   "execution_count": 237,
   "metadata": {},
   "outputs": [
    {
     "name": "stdout",
     "output_type": "stream",
     "text": [
      "1075\n",
      "1024\n"
     ]
    }
   ],
   "source": [
    "import math\n",
    "\n",
    "def underflow_limit():\n",
    "    ii=0\n",
    "    x=1.0\n",
    "    while(x>0):\n",
    "        x/=2\n",
    "        ii+=1\n",
    "    return ii\n",
    "\n",
    "def overflow_limit():\n",
    "    ii=0\n",
    "    x=1.0\n",
    "    while(x!=math.inf):\n",
    "        x*=2\n",
    "        ii+=1\n",
    "    return ii\n",
    "\n",
    "print(underflow_limit())\n",
    "print(overflow_limit())"
   ]
  },
  {
   "cell_type": "markdown",
   "metadata": {},
   "source": [
    "4\\. Write a program to determine the machine precision\n",
    "\n",
    "**Tips**: define a new variable by adding a smaller and smaller value (proceeding similarly to prob. 2) to an original variable and check the point where the two are the same "
   ]
  },
  {
   "cell_type": "code",
   "execution_count": 239,
   "metadata": {},
   "outputs": [
    {
     "data": {
      "text/plain": [
       "5.551115123125783e-17"
      ]
     },
     "execution_count": 239,
     "metadata": {},
     "output_type": "execute_result"
    }
   ],
   "source": [
    "def machine_precision():\n",
    "    i1=1\n",
    "    i2=2\n",
    "    e=1\n",
    "    while(i1!=i2):\n",
    "        i2=1+e\n",
    "        e/=2\n",
    "    return e\n",
    "\n",
    "machine_precision()"
   ]
  },
  {
   "cell_type": "markdown",
   "metadata": {},
   "source": [
    "5\\. Write a function that takes in input three parameters $a$, $b$ and $c$ and prints out the two solutions to the quadratic equation $ax^2+bx+c=0$ using the standard formula:\n",
    "$$\n",
    "x=\\frac{-b\\pm\\sqrt{b^2-4ac}}{2a}\n",
    "$$\n",
    "\n",
    "(a) use the program to compute the solution for $a=0.001$, $b=1000$ and $c=0.001$\n",
    "\n",
    "(b) re-express the standard solution formula by multiplying top and bottom by $-b\\mp\\sqrt{b^2-4ac}$ and again find the solution for $a=0.001$, $b=1000$ and $c=0.001$. How does it compare with what previously obtained? Why?\n",
    "\n",
    "(c) write a function that compute the roots of a quadratic equation accurately in all cases"
   ]
  },
  {
   "cell_type": "code",
   "execution_count": 262,
   "metadata": {},
   "outputs": [],
   "source": [
    "#(a)\n",
    "def quad_sol1(a,b,c):\n",
    "    x1= (-b + math.sqrt(b**2-4*a*c))/(2*a)\n",
    "    x2= (-b - math.sqrt(b**2-4*a*c))/(2*a)\n",
    "    return x1,x2\n",
    "#(b)\n",
    "def quad_sol2(a,b,c):\n",
    "    x1= (2*c)/(-b-math.sqrt(b**2-4*a*c))\n",
    "    x2= (2*c)/(-b+math.sqrt(b**2-4*a*c))\n",
    "    return x1,x2\n",
    "#(c)\n",
    "def quad_sol(a,b,c):\n",
    "    d=math.sqrt(b**2-4*a*c)\n",
    "    x1= (-b+d)/(2*a)\n",
    "    x2= (-b-d)/(2*a)\n",
    "    return x1,x2"
   ]
  },
  {
   "cell_type": "code",
   "execution_count": 266,
   "metadata": {},
   "outputs": [
    {
     "name": "stdout",
     "output_type": "stream",
     "text": [
      "(-9.999894245993346e-07, -999999.999999)\n",
      "(-1.000000000001e-06, -1000010.5755125057)\n",
      "(-9.999894245993346e-07, -999999.999999)\n",
      "0.001000000000002\n"
     ]
    }
   ],
   "source": [
    "a=0.001\n",
    "b=1000\n",
    "c=0.001\n",
    "\n",
    "print(quad_sol1(a,b,c))\n",
    "print(quad_sol2(a,b,c))\n",
    "print(quad_sol(a,b,c))\n",
    "\n",
    "print(math.sqrt(b**2-4*a*c))"
   ]
  },
  {
   "cell_type": "markdown",
   "metadata": {},
   "source": [
    "6\\. Write a program that implements the function $f(x)=x(x−1)$\n",
    "\n",
    "(a) Calculate the derivative of the function at the point $x = 1$ using the derivative definition:\n",
    "\n",
    "$$\n",
    "\\frac{{\\rm d}f}{{\\rm d}x} = \\lim_{\\delta\\to0} \\frac{f(x+\\delta)-f(x)}{\\delta}\n",
    "$$\n",
    "\n",
    "with $\\delta = 10^{−2}$. Calculate the true value of the same derivative analytically and compare with the answer your program gives. The two will not agree perfectly. Why not?\n",
    "\n",
    "(b) Repeat the calculation for $\\delta = 10^{−4}, 10^{−6}, 10^{−8}, 10^{−10}, 10^{−12}$ and $10^{−14}$. How does the accuracy scales with $\\delta$?"
   ]
  },
  {
   "cell_type": "markdown",
   "metadata": {},
   "source": [
    "7\\. Consider the integral of the semicircle of radius 1:\n",
    "$$\n",
    "I=\\int_{-1}^{1} \\sqrt(1-x^2) {\\rm d}x\n",
    "$$\n",
    "which it's known to be $I=\\frac{\\pi}{2}=1.57079632679...$.\n",
    "Alternatively we can use the Riemann definition of the integral:\n",
    "$$\n",
    "I=\\lim_{N\\to\\infty} \\sum_{k=1}^{N} h y_k \n",
    "$$\n",
    "\n",
    "with $h=2/N$ the width of each of the $N$ slices the domain is divided into and where\n",
    "$y_k$ is the value of the function at the $k-$th slice.\n",
    "\n",
    "(a) Write a programe to compute the integral with $N=100$. How does the result compares to the true value?\n",
    "\n",
    "(b) How much can $N$ be increased if the computation needs to be run in less than a second? What is the gain in running it for 1 minute? \n"
   ]
  }
 ],
 "metadata": {
  "kernelspec": {
   "display_name": "my-python3-kernel",
   "language": "python",
   "name": "my-python3-kernel"
  },
  "language_info": {
   "codemirror_mode": {
    "name": "ipython",
    "version": 3
   },
   "file_extension": ".py",
   "mimetype": "text/x-python",
   "name": "python",
   "nbconvert_exporter": "python",
   "pygments_lexer": "ipython3",
   "version": "3.12.2"
  }
 },
 "nbformat": 4,
 "nbformat_minor": 4
}
