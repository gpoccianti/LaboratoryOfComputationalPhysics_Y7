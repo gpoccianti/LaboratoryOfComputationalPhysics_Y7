{
 "cells": [
  {
   "cell_type": "markdown",
   "metadata": {},
   "source": [
    "1\\. Write a function that converts number representation, bin<->dec<->hex. (Clearly using the corresponding python built-in functions is not fair..)"
   ]
  },
  {
   "cell_type": "markdown",
   "metadata": {},
   "source": [
    "New (improved) version:"
   ]
  },
  {
   "cell_type": "code",
   "execution_count": 151,
   "metadata": {},
   "outputs": [],
   "source": [
    "import numpy as np\n",
    "\n",
    "def get_digit(x,n):\n",
    "    return x // 10**n % 10\n",
    "\n",
    "def get_digits(x):\n",
    "    n=0\n",
    "    while (x // 10**n > 0): #get the number of digits of x\n",
    "        n+=1\n",
    "    x_v=list(map(lambda n: get_digit(x,n),range(n)))\n",
    "    x_v =x_v[::-1] #swap vector\n",
    "    return x_v\n",
    "\n",
    "def bin_to_dec(x):\n",
    "    x_v=get_digits(x)\n",
    "#    x_bin=[x_v[i]*(2**i) for i in range(len(x_v))]\n",
    "    x_bin=[x_v[ii] * 2**ii for ii in range(len(x_v))]\n",
    "    return sum(x_bin)\n",
    "\n",
    "def dec_to_bin(x):\n",
    "    x_dec=[]\n",
    "    while(x>0):\n",
    "        x_dec.append(x % 2)\n",
    "        x = x// 2\n",
    "    x_dec=x_dec[::-1]\n",
    "    return x_dec\n",
    "\n",
    "#Analogous for hex:\n",
    "def bin_to_hex(x):\n",
    "    x_v=get_digits(x)\n",
    "#    x_bin=[x_v[i]*(2**i) for i in range(len(x_v))]\n",
    "    x_hex=[x_v[ii] * 16**ii for ii in range(len(x_v))]\n",
    "    return sum(x_hex)\n",
    "\n",
    "def dec_to_hex(x):\n",
    "    x_hex=[]\n",
    "    while(x>0):\n",
    "        x_hex.append(x % 16)\n",
    "        x = x// 16\n",
    "    x_hex=x_hex[::-1]\n",
    "    return x_hex\n",
    "\n",
    "\n",
    "#Convert a generic base number to decimal\n",
    "def b_to_dec(x,b):\n",
    "    x_dec=[]\n",
    "    while(x>0):\n",
    "        x_dec.append(x % b)\n",
    "        x = x// b\n",
    "    x_dec=x_dec[::-1]\n",
    "    return x_dec\n",
    "\n",
    "#Convert from decimal to a generic base number\n",
    "def dec_to_b(x,b):\n",
    "    x_b=[]\n",
    "    while(x>0):\n",
    "        x_b.append(x % b)\n",
    "        x = x// b\n",
    "    x_b=x_b[::-1]\n",
    "    return x_b"
   ]
  },
  {
   "cell_type": "code",
   "execution_count": 1,
   "metadata": {},
   "outputs": [],
   "source": [
    "import numpy as np\n",
    "\n",
    "#b is the considered base\n",
    "def get_len(x):\n",
    "    ii=0\n",
    "    while(x // 10**ii > 0):\n",
    "        ii+=1\n",
    "    return ii\n",
    "\n",
    "def get_digit(x,n):\n",
    "    return x // 10**n % 10\n",
    "\n",
    "def bin_to_dec(x):\n",
    "    y=0\n",
    "    for ii in np.arange(get_len(x)):\n",
    "        y+=2**ii*get_digit(x,ii)\n",
    "    return(y)\n",
    "\n",
    "def hex_to_dec(x):\n",
    "    y=0\n",
    "    for ii in np.arange(get_len(x)):\n",
    "        y+=16**ii*get_digit(x,ii)\n",
    "    return(y)\n",
    "        \n",
    "def dec_to_bin(x):\n",
    "    nn=0\n",
    "    res=[]\n",
    "    while(x!=0):\n",
    "        nn+=1\n",
    "        res.append(x % 2)\n",
    "        x=x // 2\n",
    "    # mirror the vector (inefficient algorithm)\n",
    "    res=res[::-1]\n",
    "    return res\n",
    "        \n",
    "\n",
    "def dec_to_hex(x):\n",
    "    nn=0\n",
    "    res=[]\n",
    "    while(x!=0):\n",
    "        nn+=1\n",
    "        res.append(x % 16)\n",
    "        x=x // 16\n",
    "    # mirror the vector\n",
    "    res=res[::-1]\n",
    "    return res\n",
    "    \n",
    "#We also have to include the first digit for sign"
   ]
  },
  {
   "cell_type": "code",
   "execution_count": 145,
   "metadata": {},
   "outputs": [
    {
     "data": {
      "text/plain": [
       "[1, 0, 0, 0]"
      ]
     },
     "execution_count": 145,
     "metadata": {},
     "output_type": "execute_result"
    }
   ],
   "source": [
    "dec_to_bin(8)"
   ]
  },
  {
   "cell_type": "code",
   "execution_count": 216,
   "metadata": {},
   "outputs": [],
   "source": [
    "#def base_conv(x,start_base,end_base): TODO\n",
    "    "
   ]
  },
  {
   "cell_type": "markdown",
   "metadata": {},
   "source": [
    "2\\. Write a function that converts a 32 bit word into a single precision floating point (i.e. interprets the various bits as sign, mantissa and exponent)"
   ]
  },
  {
   "cell_type": "code",
   "execution_count": 202,
   "metadata": {},
   "outputs": [
    {
     "data": {
      "text/plain": [
       "6.465218929522581e-38"
      ]
     },
     "execution_count": 202,
     "metadata": {},
     "output_type": "execute_result"
    }
   ],
   "source": [
    "def get_digit(x,n):\n",
    "    return x // 10**n % 10\n",
    "\n",
    "def get_digits(x):\n",
    "    n=0\n",
    "    while (x // 10**n > 0): #get the number of digits of x\n",
    "        n+=1\n",
    "    x_v=list(map(lambda n: get_digit(x,n),range(n)))\n",
    "    x_v =x_v[::-1] #swap vector\n",
    "    return x_v\n",
    "\n",
    "def float_pt(word):\n",
    "    \"\"\"\n",
    "    This function outputs single precision floating point, given:\n",
    "    \n",
    "    word: 32 bit word (IEEE standard)\n",
    "    \"\"\"\n",
    "    s=(-1)**int(word[0])\n",
    "    exp_= 2**(int(word[1:9],2)-127) #elevated exponent\n",
    "    m_=  1 + int(word[10:],2)/2**len(word[10:]) #Convert fixed point number\n",
    "    float_p=s*exp_*m_\n",
    "    return float_p\n",
    "\n",
    "#test\n",
    "word= \"0 00000111 11000000000000000000000\"\n",
    "\n",
    "float_pt(word)"
   ]
  },
  {
   "cell_type": "code",
   "execution_count": 222,
   "metadata": {},
   "outputs": [],
   "source": [
    "def vec_digit(x):\n",
    "    x_vec=[]\n",
    "    for kk in range(get_len(x)):\n",
    "        x_vec.append(get_digit(x,kk))\n",
    "    x_vec=x_vec[::-1]\n",
    "    return x_vec\n",
    "\n",
    "def vec_to_scal(x_v):\n",
    "    x=0\n",
    "    nn=0\n",
    "    for y in x_v:\n",
    "        x+=y*10**nn\n",
    "        nn+=1\n",
    "    return x\n",
    "\n",
    "def single_precision(x):\n",
    "\n",
    "    y=vec_digit(x)\n",
    "\n",
    "    res=(-1)**y[32]*2**(int(vec_to_scal(y[30:23:-1]),2))*(int(vec_to_scal(y[22:0:-1]),2)+2**(-23))*2**23\n",
    "    return res\n",
    "    \n",
    " "
   ]
  },
  {
   "cell_type": "markdown",
   "metadata": {},
   "source": [
    "3\\. Write a program to determine the underflow and overflow limits (within a factor of 2) for python on your computer. \n",
    "\n",
    "**Tips**: define two variables inizialized to 1 and halve/double them enough time to exceed the under/over-flow limits  "
   ]
  },
  {
   "cell_type": "code",
   "execution_count": null,
   "metadata": {},
   "outputs": [],
   "source": []
  },
  {
   "cell_type": "code",
   "execution_count": 237,
   "metadata": {},
   "outputs": [
    {
     "name": "stdout",
     "output_type": "stream",
     "text": [
      "1075\n",
      "1024\n"
     ]
    }
   ],
   "source": [
    "import math\n",
    "\n",
    "def underflow_limit():\n",
    "    ii=0\n",
    "    x=1.0\n",
    "    while(x>0):\n",
    "        x/=2\n",
    "        ii+=1\n",
    "    return ii\n",
    "\n",
    "def overflow_limit():\n",
    "    ii=0\n",
    "    x=1.0\n",
    "    while(x!=math.inf):\n",
    "        x*=2\n",
    "        ii+=1\n",
    "    return ii\n",
    "\n",
    "print(underflow_limit())\n",
    "print(overflow_limit())"
   ]
  },
  {
   "cell_type": "markdown",
   "metadata": {},
   "source": [
    "4\\. Write a program to determine the machine precision\n",
    "\n",
    "**Tips**: define a new variable by adding a smaller and smaller value (proceeding similarly to prob. 2) to an original variable and check the point where the two are the same "
   ]
  },
  {
   "cell_type": "code",
   "execution_count": null,
   "metadata": {},
   "outputs": [],
   "source": []
  },
  {
   "cell_type": "code",
   "execution_count": 215,
   "metadata": {},
   "outputs": [
    {
     "data": {
      "text/plain": [
       "5.551115123125783e-17"
      ]
     },
     "execution_count": 215,
     "metadata": {},
     "output_type": "execute_result"
    }
   ],
   "source": [
    "def machine_precision():\n",
    "    i1=1\n",
    "    i2=2\n",
    "    e=1\n",
    "    while(i1!=i2):\n",
    "        i2=1+e\n",
    "        e/=2\n",
    "    return e\n",
    "\n",
    "machine_precision()"
   ]
  },
  {
   "cell_type": "markdown",
   "metadata": {},
   "source": [
    "5\\. Write a function that takes in input three parameters $a$, $b$ and $c$ and prints out the two solutions to the quadratic equation $ax^2+bx+c=0$ using the standard formula:\n",
    "$$\n",
    "x=\\frac{-b\\pm\\sqrt{b^2-4ac}}{2a}\n",
    "$$\n",
    "\n",
    "(a) use the program to compute the solution for $a=0.001$, $b=1000$ and $c=0.001$\n",
    "\n",
    "(b) re-express the standard solution formula by multiplying top and bottom by $-b\\mp\\sqrt{b^2-4ac}$ and again find the solution for $a=0.001$, $b=1000$ and $c=0.001$. How does it compare with what previously obtained? Why?\n",
    "\n",
    "(c) write a function that compute the roots of a quadratic equation accurately in all cases"
   ]
  },
  {
   "cell_type": "code",
   "execution_count": 224,
   "metadata": {},
   "outputs": [],
   "source": [
    "#(a)\n",
    "def quad_sol1(a,b,c):\n",
    "    if b**2-4*a*c < 0:\n",
    "        return None  # No real solutions\n",
    "    x1= (-b + math.sqrt(b**2-4*a*c))/(2*a)\n",
    "    x2= (-b - math.sqrt(b**2-4*a*c))/(2*a)\n",
    "    return x1,x2\n",
    "#(b)\n",
    "def quad_sol2(a,b,c):\n",
    "    if b**2-4*a*c < 0:\n",
    "        return None  # No real solutions\n",
    "    x1= (2*c)/(-b-math.sqrt(b**2-4*a*c))\n",
    "    x2= (2*c)/(-b+math.sqrt(b**2-4*a*c))\n",
    "    return x1,x2\n",
    "#(c)\n",
    "def quad_sol(a,b,c):\n",
    "    d=math.sqrt(b**2-4*a*c)\n",
    "    if d<0:\n",
    "        return None\n",
    "    x1= (-b+d)/(2*a)\n",
    "    x2= (-b-d)/(2*a)\n",
    "    return x1,x2"
   ]
  },
  {
   "cell_type": "code",
   "execution_count": 229,
   "metadata": {},
   "outputs": [
    {
     "name": "stdout",
     "output_type": "stream",
     "text": [
      "(-9.999894245993346e-07, -999999.999999)\n",
      "(-1.000000000001e-06, -1000010.5755125057)\n",
      "(-9.999894245993346e-07, -999999.999999)\n",
      "999.999999998\n"
     ]
    }
   ],
   "source": [
    "a=0.001\n",
    "b=1000\n",
    "c=0.001\n",
    "\n",
    "print(quad_sol1(a,b,c))\n",
    "print(quad_sol2(a,b,c))\n",
    "print(quad_sol(a,b,c))\n",
    "\n",
    "print(math.sqrt(b**2-4*a*c))"
   ]
  },
  {
   "cell_type": "markdown",
   "metadata": {},
   "source": [
    "6\\. Write a program that implements the function $f(x)=x(x−1)$\n",
    "\n",
    "(a) Calculate the derivative of the function at the point $x = 1$ using the derivative definition:\n",
    "\n",
    "$$\n",
    "\\frac{{\\rm d}f}{{\\rm d}x} = \\lim_{\\delta\\to0} \\frac{f(x+\\delta)-f(x)}{\\delta}\n",
    "$$\n",
    "\n",
    "with $\\delta = 10^{−2}$. Calculate the true value of the same derivative analytically and compare with the answer your program gives. The two will not agree perfectly. Why not?\n",
    "\n",
    "(b) Repeat the calculation for $\\delta = 10^{−4}, 10^{−6}, 10^{−8}, 10^{−10}, 10^{−12}$ and $10^{−14}$. How does the accuracy scales with $\\delta$?"
   ]
  },
  {
   "cell_type": "markdown",
   "metadata": {},
   "source": [
    "For the one sided derivative the accuracy scales linearly with $\\delta$.\n",
    "However for the central derivative it scales with $\\delta^2$."
   ]
  },
  {
   "cell_type": "markdown",
   "metadata": {},
   "source": [
    "The accuracy scales linearly with $\\delta$"
   ]
  },
  {
   "cell_type": "code",
   "execution_count": 230,
   "metadata": {},
   "outputs": [
    {
     "name": "stdout",
     "output_type": "stream",
     "text": [
      "Delta:  0.0001\n",
      "One sided derivative:  -0.9999\n",
      "Accuracy:  9.999999999998899e-05\n",
      "Central derivative:  -1.0000000000000002\n",
      "Accuracy:  -2.220446049250313e-16\n",
      "\n",
      "\n",
      "\n",
      "Delta:  1e-06\n",
      "One sided derivative:  -0.999999\n",
      "Accuracy:  1.0000000000287557e-06\n",
      "Central derivative:  -1.0000000000000002\n",
      "Accuracy:  -2.220446049250313e-16\n",
      "\n",
      "\n",
      "\n",
      "Delta:  1e-08\n",
      "One sided derivative:  -0.99999999\n",
      "Accuracy:  1.0000000050247593e-08\n",
      "Central derivative:  -1.0\n",
      "Accuracy:  0.0\n",
      "\n",
      "\n",
      "\n",
      "Delta:  1e-10\n",
      "One sided derivative:  -0.9999999999\n",
      "Accuracy:  1.000000082740371e-10\n",
      "Central derivative:  -1.0\n",
      "Accuracy:  0.0\n",
      "\n",
      "\n",
      "\n",
      "Delta:  1e-12\n",
      "One sided derivative:  -0.9999999999989999\n",
      "Accuracy:  1.000088900582341e-12\n",
      "Central derivative:  -1.0\n",
      "Accuracy:  0.0\n",
      "\n",
      "\n",
      "\n"
     ]
    }
   ],
   "source": [
    "#(a)\n",
    "d = 1e-2\n",
    "\n",
    "def f(x):\n",
    "    return x*(x-1)\n",
    "\n",
    "#one sided derivative\n",
    "def der(g,x,dx):\n",
    "    return (f(x+dx)-f(x))/dx\n",
    "#central derivative\n",
    "def der2(g,x,dx):\n",
    "    return (f(x+dx/2)-f(x-dx/2))/dx\n",
    "\n",
    "for d in [10**(-int(z)) for z in np.arange(4,14,2)]:\n",
    "    print(\"Delta: \",d)\n",
    "    print(\"One sided derivative: \", der(f,0,d))\n",
    "    print(\"Accuracy: \", der(f,0,d)+1)\n",
    "    print(\"Central derivative: \", der2(f,0,d))\n",
    "    print(\"Accuracy: \", der2(f,0,d)+1)\n",
    "    print(\"\\n\\n\")\n",
    "    "
   ]
  },
  {
   "cell_type": "markdown",
   "metadata": {},
   "source": [
    "7\\. Consider the integral of the semicircle of radius 1:\n",
    "$$\n",
    "I=\\int_{-1}^{1} \\sqrt(1-x^2) {\\rm d}x\n",
    "$$\n",
    "which it's known to be $I=\\frac{\\pi}{2}=1.57079632679...$.\n",
    "Alternatively we can use the Riemann definition of the integral:\n",
    "$$\n",
    "I=\\lim_{N\\to\\infty} \\sum_{k=1}^{N} h y_k \n",
    "$$\n",
    "\n",
    "with $h=2/N$ the width of each of the $N$ slices the domain is divided into and where\n",
    "$y_k$ is the value of the function at the $k-$th slice.\n",
    "\n",
    "(a) Write a programe to compute the integral with $N=100$. How does the result compares to the true value?\n",
    "\n",
    "(b) How much can $N$ be increased if the computation needs to be run in less than a second? What is the gain in running it for 1 minute? \n"
   ]
  },
  {
   "cell_type": "code",
   "execution_count": null,
   "metadata": {},
   "outputs": [],
   "source": [
    "#(a)\n",
    "def integrate(f,N,x1,x2):\n",
    "    h=2/N\n",
    "    x=np.linspace(x1,x2,N)\n",
    "    I=h*sum(f(x))\n",
    "    return I        "
   ]
  },
  {
   "cell_type": "code",
   "execution_count": 233,
   "metadata": {},
   "outputs": [
    {
     "name": "stdout",
     "output_type": "stream",
     "text": [
      "Accuracy:  0.011063431390535821\n"
     ]
    }
   ],
   "source": [
    "#(a)\n",
    "\n",
    "def f(x):\n",
    "    return map(lambda z: math.sqrt(1-z**2),x)\n",
    "N=100\n",
    "x1=-1\n",
    "x2=1\n",
    "\n",
    "I_num=integrate(f,N,x1,x2)\n",
    "I_true=np.pi/2\n",
    "\n",
    "print(\"Accuracy: \",abs(I_num-I_true)/I_true)\n"
   ]
  },
  {
   "cell_type": "code",
   "execution_count": null,
   "metadata": {},
   "outputs": [
    {
     "name": "stdout",
     "output_type": "stream",
     "text": [
      "N:  1\n",
      "Accuracy:  1.0\n",
      "Elapsed time:  0.000705718994140625 s\n",
      "\n",
      "\n",
      "N:  111111112\n",
      "Accuracy:  9.000903734362365e-09\n",
      "Elapsed time:  13.954508781433105 s\n",
      "\n",
      "\n",
      "N:  222222223\n",
      "Accuracy:  4.50031948542744e-09\n",
      "Elapsed time:  64.33007979393005 s\n",
      "\n",
      "\n",
      "N:  333333334\n",
      "Accuracy:  3.0001739754808674e-09\n",
      "Elapsed time:  354.69483709335327 s\n",
      "\n",
      "\n",
      "N:  444444445\n",
      "Accuracy:  2.2501128118624204e-09\n",
      "Elapsed time:  58.11293077468872 s\n",
      "\n",
      "\n",
      "N:  555555556\n",
      "Accuracy:  1.8000808633196761e-09\n",
      "Elapsed time:  72.78077101707458 s\n",
      "\n",
      "\n"
     ]
    }
   ],
   "source": [
    "#(b)\n",
    "import time\n",
    "\n",
    "elapsed_time_v=[]\n",
    "accuracy_v=[]\n",
    "\n",
    "for N in np.linspace(1,1e9,10):\n",
    "    N=int(N)\n",
    "    start_time=time.time()\n",
    "    I_num=integrate(f,N,x1,x2)\n",
    "    I_true=np.pi/2\n",
    "    end_time=time.time()\n",
    "    \n",
    "    elapsed_time=end_time-start_time\n",
    "    accuracy=abs(I_num-I_true)/I_true\n",
    "    elapsed_time_v.append(elapsed_time)\n",
    "    accuracy_v.append(accuracy)\n",
    "    \n",
    "    print(\"N: \",N)\n",
    "    print(\"Accuracy: \",accuracy)\n",
    "    print(\"Elapsed time: \",elapsed_time, \"s\")\n",
    "    print(\"\\n\")\n"
   ]
  },
  {
   "cell_type": "code",
   "execution_count": 399,
   "metadata": {},
   "outputs": [
    {
     "data": {
      "image/png": "[encoded data removed]",
      "text/plain": [
       "<Figure size 1000x600 with 1 Axes>"
      ]
     },
     "metadata": {},
     "output_type": "display_data"
    },
    {
     "data": {
      "image/png": "[encoded data removed]",
      "text/plain": [
       "<Figure size 1000x600 with 1 Axes>"
      ]
     },
     "metadata": {},
     "output_type": "display_data"
    },
    {
     "data": {
      "image/png": "[encoded data removed]",
      "text/plain": [
       "<Figure size 1000x600 with 1 Axes>"
      ]
     },
     "metadata": {},
     "output_type": "display_data"
    }
   ],
   "source": [
    "import matplotlib.pyplot as plt\n",
    "\n",
    "N_values=np.linspace(1,1e9,10)\n",
    "\n",
    "# Plotting\n",
    "plt.figure(figsize=(10, 6))\n",
    "plt.plot(N_values, elapsed_time_v, marker='o', linestyle='-', color='b')\n",
    "plt.xlabel(\"Number of intervals (N)\")\n",
    "plt.ylabel(\"Elapsed Time (s)\")\n",
    "plt.title(\"Elapsed Time vs. Number of Intervals\")\n",
    "plt.grid(True)\n",
    "plt.show()\n",
    "\n",
    "\n",
    "# Plotting\n",
    "plt.figure(figsize=(10, 6))\n",
    "plt.plot(N_values, elapsed_time_v, marker='o', linestyle='-', color='b')\n",
    "plt.xlabel(\"Number of intervals (N)\")\n",
    "plt.ylabel(\"Accuracy\")\n",
    "plt.title(\"Accuracy vs. Number of Intervals\")\n",
    "plt.grid(True)\n",
    "plt.show()\n",
    "\n",
    "# Plotting\n",
    "plt.figure(figsize=(10, 6))\n",
    "plt.plot(elapsed_time_v[1:], np.ones(len(accuracy_v[1:]))-accuracy_v[1:], marker='o', linestyle='-', color='b')\n",
    "plt.xlabel(\"Elapsed Time (s)\")\n",
    "plt.ylabel(\"Accuracy\")\n",
    "plt.title(\"Accuracy vs. Elapsed time\")\n",
    "plt.grid(True)\n",
    "plt.show()"
   ]
  },
  {
   "cell_type": "code",
   "execution_count": null,
   "metadata": {},
   "outputs": [],
   "source": []
  }
 ],
 "metadata": {
  "kernelspec": {
   "display_name": "my-python3-kernel",
   "language": "python",
   "name": "my-python3-kernel"
  },
  "language_info": {
   "codemirror_mode": {
    "name": "ipython",
    "version": 3
   },
   "file_extension": ".py",
   "mimetype": "text/x-python",
   "name": "python",
   "nbconvert_exporter": "python",
   "pygments_lexer": "ipython3",
   "version": "3.12.2"
  }
 },
 "nbformat": 4,
 "nbformat_minor": 4
}
