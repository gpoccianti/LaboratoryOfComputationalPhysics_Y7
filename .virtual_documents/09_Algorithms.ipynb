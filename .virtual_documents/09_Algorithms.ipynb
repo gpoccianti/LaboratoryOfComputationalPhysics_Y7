import numpy as np
import matplotlib.pyplot as plt

%matplotlib inline
plt.style.use('ggplot')
%precision 4
#np.set_printoptions(suppress=True)





# the actual measurements
measured_time = np.linspace(0, 1, 10)
noise = (np.random.random(10)*2 - 1) * 1e-1
measures = np.sin(2 * np.pi * measured_time) + noise


from scipy.interpolate import interp1d
# linear interpolation
linear_interp = interp1d(measured_time, measures)





# cubic interpolation
cubic_interp = interp1d(measured_time, measures, kind='cubic')


# denser interval to plot the interpolating function
interpolation_time = np.linspace(0, 1, 50)

plt.figure(figsize=(6, 4))
plt.plot(measured_time, measures, 'o', ms=6, label='measures')

linear_results = linear_interp(interpolation_time)
plt.plot(interpolation_time, linear_results, label='linear interp')

cubic_results = cubic_interp(interpolation_time)
plt.plot(interpolation_time, cubic_results, label='cubic interp')
plt.legend()


# checking the punctual results
x=1/4.
print ("sin(x):",np.sin(2 * np.pi * x), 
       "linear prediction:",linear_interp(x),
       "cubic prediction:", cubic_interp(x))







from scipy import optimize





from IPython.display import Image
Image("xkcd_curve_fitting.png")





x_data = np.linspace(-5, 5, num=50)
y_data = 29 * np.sin(1.5 * x_data) + np.random.normal(size=50)

import matplotlib.pyplot as plt
plt.figure(figsize=(6, 4))
plt.scatter(x_data, y_data)





def f(x, A, nu):
    return A * np.sin(nu * x)


# fit by means of curve_fit
# p0 are the guessed values for the parameters
params, params_covariance = optimize.curve_fit(f, x_data, y_data, p0=[2, 2])
print(params)
print (params_covariance)

# get the full output
#optimize.curve_fit(f, x_data, y_data, p0=[2, 2], full_output=True)





plt.scatter(x_data, y_data, label='Data')
plt.plot(x_data, f(x_data, params[0], params[1]),
         label='Fitted function')

plt.legend(loc='best')





def f(x):
    return x**3-3*x+1

x = np.linspace(-3,3,100)
plt.axhline(0)
plt.plot(x, f(x),'r-');


from scipy.optimize import brentq
brentq(f, -3, 0), brentq(f, 0, 1), brentq(f, 1,3)


from scipy.optimize import newton
newton(f, -3), newton(f, 0), newton(f, 3)





from scipy.optimize import root, fsolve

def f(x):
    return [x[1] - 3*x[0]*(x[0]+1)*(x[0]-1),
            .25*x[0]**2 + x[1]**2 - 1]

solutions = root(f, (0.5, 0.5))
print (solutions)

print (f(solutions.x))





def f(x):
    return x**4 + 3*(x-2)**3 - 15*(x)**2 + 1

x = np.linspace(-8, 5, 100)
plt.plot(x, f(x));


optimize.minimize_scalar(f, method='Brent')



optimize.minimize_scalar(f, method='bounded', bounds=[0, 6])






def f(x, offset):
    return -np.sinc(x-offset)

x = np.linspace(-20, 20, 100)
plt.plot(x, f(x, 5));


# note how additional function arguments are passed in
solution = optimize.minimize_scalar(f, args=(5,))
solution





plt.plot(x, f(x, 5))
plt.axvline(solution.x,color='b')





lower = np.random.uniform(-20, 20, 100)
upper = lower + 1
solutions = [optimize.minimize_scalar(f, args=(5,), bracket=(l, u)) for (l, u) in zip(lower, upper)]


idx = np.argmin([solution.fun for solution in solutions])
solution = solutions[idx]

plt.plot(x, f(x, 5))
plt.axvline(solution.x, color='b');








from scipy.optimize import basinhopping

x0 = 0
solution = basinhopping(f, x0, stepsize=1, minimizer_kwargs={'args': (5,)})
solution


plt.plot(x, f(x, 5))
plt.axvline(solution.x, color='b');





# Sample from a normal distribution using numpy's random number generator
samples = np.random.normal(size=10000)

# Compute a histogram of the sample
bins = np.linspace(-5, 5, 60)

# Compute the PDF on the bin centers from scipy distribution object
from scipy import stats
bin_centers = 0.5*(bins[1:] + bins[:-1])
pdf = stats.norm.pdf(bin_centers)

from matplotlib import pyplot as plt
plt.figure(figsize=(6, 4))
_,_,_ = plt.hist(samples, bins, label="Histogram of samples", density=True)
plt.plot(bin_centers, pdf, label="PDF")
plt.legend();





mean, std = stats.norm.fit(samples)
print (mean, std)  





# Generates 2 sets of observations
samples1 = np.random.normal(0, size=100)
samples2 = np.random.normal(0.1, size=100)

# Compute a histogram of the sample
bins = np.linspace(-4, 4, 30)
histogram1, bins = np.histogram(samples1, bins=bins, density=True)
histogram2, bins = np.histogram(samples2, bins=bins, density=True)

plt.figure(figsize=(6, 4))
plt.hist(samples1, bins=bins, density=True, label="Samples 1")
plt.hist(samples2, bins=bins, density=True, label="Samples 2")
plt.legend(loc='best');


stats.ttest_ind(samples1, samples2)


np.sum(samples2), np.sum(samples1)


# most of the test statistics are available 
stats.chisquare(samples1,samples2)





from scipy.integrate import quad, quadrature
res, err = quad(np.sin, 0, np.pi/2)

# An alternative is the gaussian quadrature
#res, err = quadrature(np.sin, 0, np.pi/2)

print (res, err)
print (np.allclose(res, 1))   # res is the result, is should be close to 1

print (np.allclose(err, 1 - res))  





from scipy.integrate import nquad
func = lambda x0,x1,x2,x3 : x0**2 + x1*x2 - x3**3 + np.sin(x0) + (
                                1 if (x0-.2*x3-.5-.25*x1>0) else 0)
points = [[lambda x1,x2,x3 : 0.2*x3 + 0.5 + 0.25*x1], [], [], []]
def opts0(*args, **kwargs):
    return {'points':[0.2*args[2] + 0.5 + 0.25*args[0]]} 

result, abserr, out = nquad(func, [[0,1], [-1,1], [.13,.8], [-.15,1]], opts=[opts0,{},{},{}], full_output=True)

print (result, abserr)
print (out)





def calc_derivative(ypos, time):
    return -2 * ypos





from scipy.integrate import odeint
time_vec = np.linspace(0, 4, 40)
y = odeint(calc_derivative, y0=1, t=time_vec)


plt.figure(figsize=(4, 3))
plt.plot(time_vec, y)
plt.xlabel('t: Time')
plt.ylabel('y: Position')
plt.tight_layout()





def system(variables, t):
    x, y = variables  # Unpack variables
    dxdt = x + y
    dydt = -x + y
    return [dxdt, dydt]

# Initial conditions
initial_conditions = [1, 0]  # x(0)=1, y(0)=0

# Time points
t = np.linspace(0, 10, 100)

# Solve the system
solution = odeint(system, initial_conditions, t)

# Plot results
plt.plot(t, solution[:, 0], label='x(t)')
plt.plot(t, solution[:, 1], label='y(t)')
plt.xlabel('Time')
plt.ylabel('Values')
plt.legend()
plt.title('System of ODEs Solution')
plt.show()








# Define the system of first-order equations
def damped_oscillator(state, t, gamma, omega_0):
    y, v = state  # Unpack the state vector
    dydt = v
    dvdt = -2 * gamma * v - omega_0**2 * y
    return [dydt, dvdt]

# Parameters
gamma = 0.1       # Damping coefficient
omega_0 = 1.0     # Natural frequency
initial_state = [1.0, 0.0]  # Initial conditions: x(0)=1 (displacement), v(0)=0 (velocity)

# Time points to solve the system
t = np.linspace(0, 50, 500)

# Solve the system
solution = odeint(damped_oscillator, initial_state, t, args=(gamma, omega_0))

# Extract displacement (x) and velocity (v) from the solution
y = solution[:, 0]  # Displacement
v = solution[:, 1]  # Velocity

# Plot the results
plt.figure(figsize=(10, 5))
plt.plot(t, y, label='Displacement')
plt.plot(t, v, label='Velocity')
plt.title('Damped Harmonic Oscillator')
plt.xlabel('Time')
plt.ylabel('Amplitude')
plt.legend()
plt.grid()
plt.show()






from sympy import symbols, Function, Eq, dsolve

# Define the symbols
t = symbols('t')  # Time variable
gamma, omega_0 = symbols('gamma omega_0', positive=True, real=True)  # Parameters
x = Function('x')(t)  # Displacement as a function of time

# Define the damped harmonic oscillator equation
damped_eq = Eq(x.diff(t, t) + 2 * gamma * x.diff(t) + omega_0**2 * x, 0)

# Solve the differential equation
solution = dsolve(damped_eq, x)
print("General Solution:")
solution


from sympy import latex
latex_solution = latex(solution)
print("LaTeX-formatted Solution:")
print(latex_solution)


# Define initial conditions: x(0) = 1, x'(0) = 0
ics = {x.subs(t, 0): 1, x.diff(t).subs(t, 0): 0}

# Solve with initial conditions
solution_with_ics = dsolve(damped_eq, x, ics=ics)
print("\nSolution with Initial Conditions:")
print(solution_with_ics)


from sympy.plotting import plot
from sympy import sqrt

# Substitute specific values for gamma and omega_0
gamma_val = 0.1
omega_0_val = 1.0
specific_solution = solution_with_ics.subs({gamma: gamma_val, omega_0: omega_0_val})

# Plot the solution
plot(specific_solution.rhs, (t, 0, 20), title="Damped Harmonic Oscillator", ylabel="x(t)", xlabel="Time");






import numpy as np
from scipy import fftpack
from matplotlib import pyplot as plt

# Seed the random number generator
np.random.seed(1234)

time_step = 0.02
period = 5.

time_vec = np.arange(0, 20, time_step)
sig = (np.sin(2 * np.pi / period * time_vec)
       + 0.5 * np.random.randn(time_vec.size))

plt.figure(figsize=(6, 5))
plt.plot(time_vec, sig, label='Original signal')






# The FFT of the signal
sig_fft = fftpack.fft(sig)

# And the power (sig_fft is of complex dtype)
power = np.abs(sig_fft)

# The corresponding frequencies
sample_freq = fftpack.fftfreq(sig.size, d=time_step)

# Plot the FFT power
plt.figure(figsize=(6, 5))
plt.plot(sample_freq, power)
plt.xlabel('Frequency [Hz]')
plt.ylabel('plower')

# Find the peak frequency: we can focus on only the positive frequencies
pos_mask = np.where(sample_freq > 0)
freqs = sample_freq[pos_mask]
peak_freq = freqs[power[pos_mask].argmax()]

# Check that it does indeed correspond to the frequency that we generate
# the signal with
print ("Is it close to the generated main frequency?", np.allclose(peak_freq, 1./period))

# An inner plot to show the peak frequency
axes = plt.axes([0.55, 0.3, 0.3, 0.5])
plt.title('Peak frequency')
plt.plot(freqs[:8], power[:8])
plt.setp(axes, yticks=[])

# scipy.signal.find_peaks_cwt can also be used for more advanced
# peak detection


high_freq_fft = sig_fft.copy()
high_freq_fft[np.abs(sample_freq) > peak_freq] = 0
filtered_sig = fftpack.ifft(high_freq_fft)

plt.figure(figsize=(6, 5))
plt.plot(time_vec, sig, label='Original signal')
plt.plot(time_vec, filtered_sig, linewidth=3, label='Filtered signal')
plt.xlabel('Time [s]')
plt.ylabel('Amplitude')

plt.legend(loc='best');

