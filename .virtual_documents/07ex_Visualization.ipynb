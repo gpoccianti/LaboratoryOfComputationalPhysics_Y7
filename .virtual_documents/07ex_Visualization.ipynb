import numpy as np
from scipy.stats import norm
import matplotlib.pyplot as plt
%matplotlib inline

import pandas as pd
import seaborn as sns
import scipy

#I try display latex symbols (not fundamental, but have a look)
from sympy import latex
from sympy import symbols
from IPython.display import display, Math





np.random.seed(19680801)
N=100
m=4 #mean
var=10 #variance
x = np.random.normal(loc=m, scale=np.sqrt(var), size=N)
data=x

#Now we plot the corresponding histogram
# Calculate histogram data
bins = 15   #Check this: you can create a function to optimize !!!!!!!
counts, bin_edges = np.histogram(data, bins=bins)

# Calculate bin centers
bin_centers = (bin_edges[:-1] + bin_edges[1:]) / 2

# Error bars: sqrt of counts
errors = np.sqrt(counts)

# Now we plot the histogram with error bars
fig = plt.figure(figsize=(10, 10))
ax = fig.add_subplot(1, 1, 1, aspect=1)

# Plot histogram as a bar plot for visual alignment
ax.bar(bin_centers, counts, width=bin_edges[1] - bin_edges[0], alpha=0.6,color="blue") #label='data'
#ax.legend(loc=(0.65, 0.8))

# Add error bars
ax.errorbar(bin_centers, counts, yerr=errors, capsize=5, fmt='o', color='red')

ax.set_title('Histogram of data')
ax.set_ylabel('counts')
ax.yaxis.tick_right()

#Grid
ax.grid(color='grey', linestyle='--', linewidth=0.5, alpha=0.7)
ax.set_facecolor('#d3d3d3')  # Set a light grey background for the plot

#Ticks
#Already OK ?



plt.show()


#Create a gaussian variable for every point in x
def create_g(x, st=np.sqrt(var)):
    """
    Creates a Gaussian kernel density function applied to each point in x.

    Parameters:
    x (array-like): Input data points.
    st (float, optional): Standard deviation of the Gaussian kernel. If not provided, it is calculated using Silverman's rule of thumb.

    Returns:
    list: The Gaussian PDF functions at each point in x.
    """
    std = 1.06 * st * len(x) ** (-1 / 5)  # Silverman's rule of thumb
    
    #We return a gaussian function for every bin (with mean the cen
#    funcs= [lambda xx: list(map(lambda z: norm.pdf(xx, loc=z, scale=std), x)]
    funcs = [lambda xx, z=z: norm.pdf(xx, loc=z, scale=std) for z in x] #This notation is useful to solve a capturation issue
    return funcs


#Create a gaussian variable for every point in x
gauss=create_g(x)

# Create the plot
fig = plt.figure(figsize=(10, 10))
ax = fig.add_subplot(1, 1, 1)

xx = np.linspace(np.floor(x.min())-1, np.ceil(x.max()+1), 500)  # Range for x-axis to evaluate the Gaussians
#Don't set axis ratio: 
ax.set_xlim(xx.min(),xx.max())
ax.set_ylim(0, 0.35)
#Don't set aspect ratio: since the gaussian doesn't cover the screen it flattens the plot

# Define the range for plotting



# Plot each Gaussian function
ii=0
for g in gauss:
    ax.plot(xx, g(xx))

# Labeling the plot
ax.set_title('Gaussian Kernels for Points in x')
ax.set_xlabel('x')
ax.set_ylabel('Density')
#ax.legend()

#Grid
ax.grid(color='grey', linestyle='--', linewidth=0.5, alpha=0.7)
#ax.set_facecolor('#d3d3d3')  # Set a light grey background for the plot

# Display the plot
plt.show()


#Compute normalization
#vals = [gauss[i](x[i]) for i in np.arange(len(x))] 
bin_centers





def create_dat(N, m_x, st_x,m_y,st_y):
    
    """
    function to create the prescribed dataset:
    N: number of rows (elements) in the dataset
    each column has its own gaussian distribution
    m_x: mean of 1 var
    st_x: standard deviation of 1 var
    m_y:     2 var
    st_y:    2 var
    """
    xx=m_x+st_x*np.random.randn(N,2) #first column (category)
    zz=m_y+st_y*np.random.randn(N,2) #second column
    df = pd.DataFrame({
        "x": np.concatenate([xx[:, 0], zz[:, 0]]),
        "y": np.concatenate([xx[:, 1], zz[:, 1]]),
        "category": ["Category 1"] * N + ["Category 2"] * N  # Assign group labels
    })
    return df


np.random.seed(19680801) #For reproducibility

#Setting parameters
N=1000
m_x=0
m_y=5
st_x=1
st_y=2

df=create_dat(N,m_x,st_x,m_y,st_y)

#creating a category variable

print("Our dataset (head): \n",df.head())
print("\n")

#Plotting
print("Scatter plot: \n")
#sns.relplot(x="x", y="y", data=df,hue="category",palette={"Category 1": "green", "Category 2": "red"}); #simple scatter plot
sns.jointplot(x="x", y="y", data=df,hue="category",palette={"Category 1": "green", "Category 2": "red"});


! wget https://www.dropbox.com/s/u4y3k4kk5tc7j46/two_categories_scatter_plot.png
from IPython.display import Image
Image('two_categories_scatter_plot.png')





!wget -O ./residuals_261.npy https://www.dropbox.com/s/hgnvyj9abatk8g6/residuals_261.npy


df1=pd.DataFrame(np.load("residuals_261.npy",allow_pickle=True).item()) #Extract dataframe from file
#Not sure why allow_pickle=True is necessary





print("Features of the dataset: \n",df1.describe())





df1=df1[np.abs(df1["residuals"])<2]
df1





result = scipy.stats.linregress(df1.iloc[:,0], df1.iloc[:,1]) #Linear fit
print("Results of the fit: \n")
print("Intercept: ",result.intercept, "with std dev: " ,result.intercept_stderr)
print("Slope: ",result.slope, "with std dev: ", result.stderr)

# display(Math(f"Intercept: {result.intercept:.4f} \\pm {result.intercept_stderr:.4f}"))






sns.jointplot(x="distances", y="residuals", kind="reg", data=df1); #Do I need to print on the plot
#the intercept and the slope ?
#Is the x/y order important (I obtain a better fit in this way and it makes more physical sense)





N_bins=100
x=np.linspace(0,20,N_bins+1) #array of bin centers (for the "distance")
y=[np.mean(df1[(df1["distances"]>= x[i]) & (df1["distances"]<= x[i+1]) ]["residuals"]) for i in np.arange(len(x)-1)]
erry= [np.std(df1[(df1["distances"]>= x[i]) & (df1["distances"]<= x[i+1]) ]["residuals"]) for i in np.arange(len(x)-1)]

# Calculate bin centers
bin_centers = (x[:-1] + x[1:]) / 2








fig = plt.figure(figsize=(12, 8))


fig, (ax1, ax2) = plt.subplots(nrows=2, ncols=1, figsize=(12, 7))

# plot averages with errorbars
ax1.errorbar(bin_centers, y, yerr=erry, fmt='o', color='blue', ecolor='red', capsize=5)
ax1.set_xlabel('Distances')
ax1.set_xlabel('distances')
ax1.set_ylabel('residuals')


#Scatter plot
scatter = ax2.scatter(x=df1["distances"], y=df1["residuals"])
xlab=ax2.set_xlabel('distances')
ylab=ax2.set_ylabel('residuals')

# Add a title for all the plots
fig.suptitle('Scatter plot with profile', fontsize=16)

plt.show()
