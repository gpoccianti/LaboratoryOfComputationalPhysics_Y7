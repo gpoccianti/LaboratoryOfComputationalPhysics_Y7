{
 "cells": [
  {
   "cell_type": "markdown",
   "metadata": {},
   "source": [
    "1\\. **Radioactive decay chain**\n",
    "\n",
    "${\\rm Tl}^{208}$ decays to ${\\rm Pb}^{208}$ with a half-lieve of 3.052 minutes. Suppose to start with a sample of 1000 Thallium atoms and 0 of Lead atoms.\n",
    "\n",
    "* Take steps in time of 1 second and at each time-step decide whether each Tl atom has decayed or not, accordingly to the probability $p(t)=1-2^{-t/\\tau}$. Subtract the total number of Tl atoms that decayed at each step from the Tl sample and add them to the Lead one. Plot the evolution of the two sets as a function of time  \n",
    "* Repeat the exercise by means of the inverse transform method: draw 1000 random numbers from the non-uniform probability distribution $p(t)=2^{-t/\\tau}\\frac{\\ln 2}{\\tau}$ to represent the times of decay of the 1000 Tl atoms. Make a plot showing the number of atoms that have not decayed as a function of time"
   ]
  },
  {
   "cell_type": "code",
   "execution_count": null,
   "metadata": {},
   "outputs": [
    {
     "ename": "",
     "evalue": "",
     "output_type": "error",
     "traceback": [
      "\u001b[1;31mFailed to start the Kernel. \n",
      "\u001b[1;31mTraceback (most recent call last):\n",
      "\u001b[1;31m  File \"/opt/anaconda3/envs/myenv_bio/lib/python3.10/runpy.py\", line 196, in _run_module_as_main\n",
      "\u001b[1;31m    return _run_code(code, main_globals, None,\n",
      "\u001b[1;31m  File \"/opt/anaconda3/envs/myenv_bio/lib/python3.10/runpy.py\", line 86, in _run_code\n",
      "\u001b[1;31m    exec(code, run_globals)\n",
      "\u001b[1;31m  File \"/opt/anaconda3/envs/myenv_bio/lib/python3.10/site-packages/ipykernel_launcher.py\", line 16, in <module>\n",
      "\u001b[1;31m    from ipykernel import kernelapp as app\n",
      "\u001b[1;31m  File \"/opt/anaconda3/envs/myenv_bio/lib/python3.10/site-packages/ipykernel/kernelapp.py\", line 21, in <module>\n",
      "\u001b[1;31m    from IPython.core.application import (  # type:ignore[attr-defined]\n",
      "\u001b[1;31m  File \"/opt/anaconda3/envs/myenv_bio/lib/python3.10/site-packages/IPython/__init__.py\", line 55, in <module>\n",
      "\u001b[1;31m    from .terminal.embed import embed\n",
      "\u001b[1;31m  File \"/opt/anaconda3/envs/myenv_bio/lib/python3.10/site-packages/IPython/terminal/embed.py\", line 15, in <module>\n",
      "\u001b[1;31m    from IPython.core.interactiveshell import DummyMod, InteractiveShell\n",
      "\u001b[1;31m  File \"/opt/anaconda3/envs/myenv_bio/lib/python3.10/site-packages/IPython/core/interactiveshell.py\", line 110, in <module>\n",
      "\u001b[1;31m    from IPython.core.history import HistoryManager\n",
      "\u001b[1;31m  File \"/opt/anaconda3/envs/myenv_bio/lib/python3.10/site-packages/IPython/core/history.py\", line 10, in <module>\n",
      "\u001b[1;31m    import sqlite3\n",
      "\u001b[1;31m  File \"/opt/anaconda3/envs/myenv_bio/lib/python3.10/sqlite3/__init__.py\", line 57, in <module>\n",
      "\u001b[1;31m    from sqlite3.dbapi2 import *\n",
      "\u001b[1;31m  File \"/opt/anaconda3/envs/myenv_bio/lib/python3.10/sqlite3/dbapi2.py\", line 27, in <module>\n",
      "\u001b[1;31m    from _sqlite3 import *\n",
      "\u001b[1;31mImportError: dlopen(/opt/anaconda3/envs/myenv_bio/lib/python3.10/lib-dynload/_sqlite3.cpython-310-darwin.so, 0x0002): Symbol not found: _sqlite3_enable_load_extension\n",
      "\u001b[1;31m  Referenced from: <03A18C81-4718-3987-B105-3DEFE941BCAB> /opt/anaconda3/envs/myenv_bio/lib/python3.10/lib-dynload/_sqlite3.cpython-310-darwin.so\n",
      "\u001b[1;31m  Expected in:     <F6219E0F-E23A-3D19-B004-3DE03A2D91C5> /usr/lib/libsqlite3.dylib. \n",
      "\u001b[1;31mView Jupyter <a href='command:jupyter.viewOutput'>log</a> for further details."
     ]
    }
   ],
   "source": [
    "import numpy.random as npr\n",
    "import numpy as np\n",
    "import matplotlib.pyplot as plt\n",
    "\n",
    "# Parameters\n",
    "N = 1000  # Initial number of Thallium atoms\n",
    "tau = 3.0502 * 60  # Half-life in seconds\n",
    "T_max = 1000  # Total time in seconds\n",
    "\n",
    "# Initialize variables\n",
    "N_v = []  # Number of decayed atoms over time\n",
    "N_dec = 0  # Initial count of decayed atoms\n",
    "\n",
    "# Simulation loop\n",
    "for t in range(T_max):\n",
    "    # Time-dependent decay probability\n",
    "    p_t = 1 - 2**(-1 / tau)\n",
    "    # Determine the number of atoms that decay in this time step\n",
    "    decayed = npr.binomial(N - N_dec, p_t)\n",
    "    # Update the number of decayed atoms\n",
    "    N_dec += decayed\n",
    "    # Record the number of decayed atoms\n",
    "    N_v.append(N_dec)\n",
    "\n",
    "# Plotting\n",
    "fig, ax = plt.subplots(figsize=(10, 6))\n",
    "plt.plot(range(T_max), N_v, label=\"Pb (Decayed)\", color=\"blue\")\n",
    "plt.plot(range(T_max), [N - nv for nv in N_v], label=\"Tl (Remaining)\", color=\"orange\")\n",
    "ax.set_xlabel(\"Time (s)\")\n",
    "ax.set_ylabel(\"Number of Atoms\")\n",
    "plt.legend()\n",
    "plt.title(\"Decay Simulation of Tl to Pb\")\n",
    "plt.grid()\n",
    "plt.show()\n"
   ]
  },
  {
   "cell_type": "code",
   "execution_count": 60,
   "metadata": {},
   "outputs": [
    {
     "data": {
      "image/png": "[encoded data removed]",
      "text/plain": [
       "<Figure size 640x480 with 1 Axes>"
      ]
     },
     "metadata": {},
     "output_type": "display_data"
    }
   ],
   "source": [
    "#Second method\n",
    "u=npr.random(T_max)\n",
    "y=-tau/np.log(2) * np.log(1-u)\n",
    "\n",
    "N_dec2=[np.sum([1 if y < t else 0 for y in y]) for t in range(T_max)] #atoms that have decayed\n",
    "N_dec2=np.ones(T_max)*N-N_dec2\n",
    "plt.plot(range(T_max),N_dec2,label=\"Tl\")\n",
    "plt.legend()\n",
    "plt.show()"
   ]
  },
  {
   "cell_type": "markdown",
   "metadata": {},
   "source": [
    "2\\. **Rutherford Scattering**\n",
    "\n",
    "The scattering angle $\\theta$ of $\\alpha$ particles hitting a positively charged nucleus of a Gold atom ($Z=79$) follows the rule:\n",
    "\n",
    "$$\n",
    "\\tan{\\frac{1}{2} \\theta} = \\frac{Z e^2} {2\\pi \\epsilon_0 E b}\n",
    "$$\n",
    "\n",
    "where $E=7.7$ MeV and $b$ beam is the impact parameter. The beam is represented by a 2D gaussian distribution with $\\sigma=a_0/100$ for both coordinates ($a_0$ being the Bohr radius). Assume 1 million $\\alpha$ particles are shot on the gold atom.\n",
    "\n",
    "Computing the fraction of particles that \"bounce back\",i.e. those particle whose scattering angle is greater than $\\pi/2$ (which set a condition on the impact parameter $b$)"
   ]
  },
  {
   "cell_type": "code",
   "execution_count": 78,
   "metadata": {},
   "outputs": [
    {
     "name": "stdout",
     "output_type": "stream",
     "text": [
      "The fraction of particles that bounce back is:  0.1588 %\n"
     ]
    }
   ],
   "source": [
    "num_particles=int(1e6)\n",
    "a0=5.29*1e-11\n",
    "\n",
    "x=npr.normal(loc=0,scale=a0/100,size=num_particles)\n",
    "y=npr.normal(loc=0,scale=a0/100,size=num_particles)\n",
    "b=np.sqrt(x**2+y**2)\n",
    "\n",
    "th=2*np.atan(2.955*1e-14/b)\n",
    "n_bounce= len(th[th>np.pi/2])\n",
    "print(\"The fraction of particles that bounce back is: \",n_bounce/num_particles*100,\"%\")"
   ]
  },
  {
   "cell_type": "markdown",
   "metadata": {},
   "source": [
    "3\\. **Monte Carlo integration: hit/miss vs mean value method**\n",
    "\n",
    "Consider the function \n",
    "\n",
    "$$f(x) =\\sin^2{\\frac{1}{x(2-x)}}$$\n",
    "\n",
    "* Compute the integral of $f(x)$ between 0 and 2 with the hit/miss method. Evaluate the error of your estimate\n",
    "* Repeat the integral with the mean value method. Evaluate the error and compare it with the previous one"
   ]
  },
  {
   "cell_type": "code",
   "execution_count": 123,
   "metadata": {},
   "outputs": [
    {
     "name": "stdout",
     "output_type": "stream",
     "text": [
      "integral with hit/miss method:  1.455\n",
      "integral with mean value method: 1.456\n"
     ]
    }
   ],
   "source": [
    "def f(x):\n",
    "    return np.sin(1/(x*(2-x)))**2\n",
    "\n",
    "#Hit/ miss method\n",
    "N=10000 #number of samples\n",
    "u=npr.random(N)\n",
    "x=npr.random(N)*2 #random numbers in domain [0,2]\n",
    "k= len(u[u<f(x)]) #Success generated samples\n",
    "I=k*2/N\n",
    "print(\"integral with hit/miss method: \",I)\n",
    "\n",
    "#Mean value method\n",
    "I2=2*np.sum(f(x))/N\n",
    "print(f\"integral with mean value method: {I2:.5}\")"
   ]
  },
  {
   "cell_type": "markdown",
   "metadata": {},
   "source": [
    "4\\. **Monte Carlo integration in high dimension**\n",
    "\n",
    "* Start of by computing the area of a circle of unit radius, by integrating the function \n",
    "\n",
    "$$\n",
    "f(x,y)=\n",
    "\\left\\{\n",
    "\\begin{array}{ll}\n",
    "      1 & x^2+y^2\\le 1 \\\\\n",
    "      0 & {\\rm elsewhere}\n",
    "\\end{array} \n",
    "\\right.\n",
    "$$\n",
    "\n",
    "* Generalize the result for a 10D sphere\n",
    "\n"
   ]
  },
  {
   "cell_type": "code",
   "execution_count": 245,
   "metadata": {},
   "outputs": [
    {
     "data": {
      "text/plain": [
       "2.2528"
      ]
     },
     "execution_count": 245,
     "metadata": {},
     "output_type": "execute_result"
    }
   ],
   "source": [
    "from scipy import linalg as la\n",
    "import numpy.random as npr\n",
    "\n",
    "def f(x):\n",
    "    if la.norm(x)<=1:\n",
    "        return 1\n",
    "    else:\n",
    "        return 0\n",
    "\n",
    "#Hit/ miss method\n",
    "#in d dimension\n",
    "d=10\n",
    "N=10000\n",
    "x=npr.rand(N,d)*2-1 #Centered hypercube\n",
    "V=2**d\n",
    "count=0\n",
    "for i in np.arange(len(x)):\n",
    "    count+=f(x[i,:])\n",
    "I=V*count/N\n",
    "I"
   ]
  },
  {
   "cell_type": "markdown",
   "metadata": {},
   "source": [
    "5\\. **Monte Carlo integration with importance sampling** \n",
    "\n",
    "Calculate the value of the integral:\n",
    "\n",
    "$$\n",
    "I=\\int_0^1 \\frac{x^{-1/2}}{e^x+1} dx\n",
    "$$\n",
    "\n",
    "using the importance sampling method with $w(x)=1/\\sqrt{x}$. You should get a result about 0.84"
   ]
  },
  {
   "cell_type": "code",
   "execution_count": null,
   "metadata": {},
   "outputs": [
    {
     "ename": "",
     "evalue": "",
     "output_type": "error",
     "traceback": [
      "\u001b[1;31mFailed to start the Kernel. \n",
      "\u001b[1;31mTraceback (most recent call last):\n",
      "\u001b[1;31m  File \"/opt/anaconda3/envs/myenv_bio/lib/python3.10/runpy.py\", line 196, in _run_module_as_main\n",
      "\u001b[1;31m    return _run_code(code, main_globals, None,\n",
      "\u001b[1;31m  File \"/opt/anaconda3/envs/myenv_bio/lib/python3.10/runpy.py\", line 86, in _run_code\n",
      "\u001b[1;31m    exec(code, run_globals)\n",
      "\u001b[1;31m  File \"/opt/anaconda3/envs/myenv_bio/lib/python3.10/site-packages/ipykernel_launcher.py\", line 16, in <module>\n",
      "\u001b[1;31m    from ipykernel import kernelapp as app\n",
      "\u001b[1;31m  File \"/opt/anaconda3/envs/myenv_bio/lib/python3.10/site-packages/ipykernel/kernelapp.py\", line 21, in <module>\n",
      "\u001b[1;31m    from IPython.core.application import (  # type:ignore[attr-defined]\n",
      "\u001b[1;31m  File \"/opt/anaconda3/envs/myenv_bio/lib/python3.10/site-packages/IPython/__init__.py\", line 55, in <module>\n",
      "\u001b[1;31m    from .terminal.embed import embed\n",
      "\u001b[1;31m  File \"/opt/anaconda3/envs/myenv_bio/lib/python3.10/site-packages/IPython/terminal/embed.py\", line 15, in <module>\n",
      "\u001b[1;31m    from IPython.core.interactiveshell import DummyMod, InteractiveShell\n",
      "\u001b[1;31m  File \"/opt/anaconda3/envs/myenv_bio/lib/python3.10/site-packages/IPython/core/interactiveshell.py\", line 110, in <module>\n",
      "\u001b[1;31m    from IPython.core.history import HistoryManager\n",
      "\u001b[1;31m  File \"/opt/anaconda3/envs/myenv_bio/lib/python3.10/site-packages/IPython/core/history.py\", line 10, in <module>\n",
      "\u001b[1;31m    import sqlite3\n",
      "\u001b[1;31m  File \"/opt/anaconda3/envs/myenv_bio/lib/python3.10/sqlite3/__init__.py\", line 57, in <module>\n",
      "\u001b[1;31m    from sqlite3.dbapi2 import *\n",
      "\u001b[1;31m  File \"/opt/anaconda3/envs/myenv_bio/lib/python3.10/sqlite3/dbapi2.py\", line 27, in <module>\n",
      "\u001b[1;31m    from _sqlite3 import *\n",
      "\u001b[1;31mImportError: dlopen(/opt/anaconda3/envs/myenv_bio/lib/python3.10/lib-dynload/_sqlite3.cpython-310-darwin.so, 0x0002): Symbol not found: _sqlite3_enable_load_extension\n",
      "\u001b[1;31m  Referenced from: <03A18C81-4718-3987-B105-3DEFE941BCAB> /opt/anaconda3/envs/myenv_bio/lib/python3.10/lib-dynload/_sqlite3.cpython-310-darwin.so\n",
      "\u001b[1;31m  Expected in:     <F6219E0F-E23A-3D19-B004-3DE03A2D91C5> /usr/lib/libsqlite3.dylib. \n",
      "\u001b[1;31mView Jupyter <a href='command:jupyter.viewOutput'>log</a> for further details."
     ]
    }
   ],
   "source": [
    "N=1000\n",
    "z=np.linspace(1e-4,1,N)\n",
    "\n",
    "def w(x):\n",
    "    return 1/(np.sqrt(x))\n",
    "\n",
    "def rw(n): #sampling from the distribution (Inverse transform Method)\n",
    "    u=npr.random(n)\n",
    "    return u**2\n",
    "\n",
    "def f(x):\n",
    "    return x**(-0.5)/(np.exp(x)+1)\n",
    "\n",
    "x= rw(N) #sampling w.r.t. the new distribution w(x)\n",
    "\n",
    "I=2/N*np.sum(f(x)/w(x)) #normalization of w(x) is 2\n",
    "\n",
    "print(\"The value of the integral (importance sampling) is\", I)"
   ]
  },
  {
   "cell_type": "code",
   "execution_count": null,
   "metadata": {},
   "outputs": [],
   "source": []
  }
 ],
 "metadata": {
  "kernelspec": {
   "display_name": "Python (myenv_bio)",
   "language": "python",
   "name": "myenv_bio"
  },
  "language_info": {
   "codemirror_mode": {
    "name": "ipython",
    "version": 3
   },
   "file_extension": ".py",
   "mimetype": "text/x-python",
   "name": "python",
   "nbconvert_exporter": "python",
   "pygments_lexer": "ipython3",
   "version": "3.10.9"
  }
 },
 "nbformat": 4,
 "nbformat_minor": 4
}
