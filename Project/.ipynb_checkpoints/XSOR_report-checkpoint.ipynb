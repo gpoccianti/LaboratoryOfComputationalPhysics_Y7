{
 "cells": [
  {
   "cell_type": "markdown",
   "id": "e71ef4cc-d687-414f-bf6d-b3d9c05fb3a4",
   "metadata": {},
   "source": [
    "## XSOR Project - "
   ]
  },
  {
   "cell_type": "code",
   "execution_count": null,
   "id": "f1deb417-1268-4ab5-a95c-5f08bd30b907",
   "metadata": {},
   "outputs": [],
   "source": []
  }
 ],
 "metadata": {
  "kernelspec": {
   "display_name": "Python (my-python3-env)",
   "language": "python",
   "name": "my-python3-env"
  },
  "language_info": {
   "codemirror_mode": {
    "name": "ipython",
    "version": 3
   },
   "file_extension": ".py",
   "mimetype": "text/x-python",
   "name": "python",
   "nbconvert_exporter": "python",
   "pygments_lexer": "ipython3",
   "version": "3.12.2"
  }
 },
 "nbformat": 4,
 "nbformat_minor": 5
}
